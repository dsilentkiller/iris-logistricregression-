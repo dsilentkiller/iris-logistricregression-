{
 "cells": [
  {
   "cell_type": "code",
   "execution_count": 1,
   "id": "9db2d4ee",
   "metadata": {},
   "outputs": [
    {
     "data": {
      "text/plain": [
       "('Problem Statement:,You are given a dataset containing Measurments of iris flower, Each Iris Flower in the dataset is labeled with one of threee species:Setosa, Versicolor or Virginica, Your Task is to build a machine learning model that can predict the species of an iris flower based on its measurments, the dataset contain sepal_length',\n",
       " 'sepal_width',\n",
       " 'petal_length',\n",
       " 'petal_width in cmTASK :1. LOAD THE DATASET AND EXPLORE ITS STRUCTURE AND CONTENT,2.PREPROCESS THE DATA,IF NECESSORY(EXAMPLE HANDLE MISSIONG VALUE.Encode categorical variables)3.split the dataset into training set and test set, 4.select the machine learing algorithm and train the model in the training set and test set.5.evalute model performance on the testing set using appropriate metrics(eg,accuracy, precision, recall,6.visulize the results , such asa confusion matrix or a classification report .Provide insights into the models performance and any observations you made during the analysis)')"
      ]
     },
     "execution_count": 1,
     "metadata": {},
     "output_type": "execute_result"
    }
   ],
   "source": [
    "'Ayta Incorportaion Pvt ltd #predicting the iris flower species'\n",
    "'Problem Statement:,You are given a dataset containing Measurments of iris flower, Each Iris Flower in the dataset is labeled with one of threee species:Setosa, Versicolor or Virginica, Your Task is to build a machine learning model that can predict the species of an iris flower based on its measurments, the dataset contain sepal_length', 'sepal_width','petal_length', 'petal_width in cm''TASK :1. LOAD THE DATASET AND EXPLORE ITS STRUCTURE AND CONTENT,2.PREPROCESS THE DATA,IF NECESSORY(EXAMPLE HANDLE MISSIONG VALUE.Encode categorical variables)3.split the dataset into training set and test set, 4.select the machine learing algorithm and train the model in the training set and test set.5.evalute model performance on the testing set using appropriate metrics(eg,accuracy, precision, recall,6.visulize the results , such asa confusion matrix or a classification report .Provide insights into the models performance and any observations you made during the analysis)'"
   ]
  },
  {
   "cell_type": "code",
   "execution_count": 3,
   "id": "2cfc6d7f",
   "metadata": {},
   "outputs": [
    {
     "data": {
      "text/html": [
       "<div>\n",
       "<style scoped>\n",
       "    .dataframe tbody tr th:only-of-type {\n",
       "        vertical-align: middle;\n",
       "    }\n",
       "\n",
       "    .dataframe tbody tr th {\n",
       "        vertical-align: top;\n",
       "    }\n",
       "\n",
       "    .dataframe thead th {\n",
       "        text-align: right;\n",
       "    }\n",
       "</style>\n",
       "<table border=\"1\" class=\"dataframe\">\n",
       "  <thead>\n",
       "    <tr style=\"text-align: right;\">\n",
       "      <th></th>\n",
       "      <th>sepal_length</th>\n",
       "      <th>sepal_width</th>\n",
       "      <th>petal_length</th>\n",
       "      <th>petal_width</th>\n",
       "      <th>species</th>\n",
       "    </tr>\n",
       "  </thead>\n",
       "  <tbody>\n",
       "    <tr>\n",
       "      <th>0</th>\n",
       "      <td>5.1</td>\n",
       "      <td>3.5</td>\n",
       "      <td>1.4</td>\n",
       "      <td>0.2</td>\n",
       "      <td>Iris-setosa</td>\n",
       "    </tr>\n",
       "    <tr>\n",
       "      <th>1</th>\n",
       "      <td>4.9</td>\n",
       "      <td>3.0</td>\n",
       "      <td>1.4</td>\n",
       "      <td>0.2</td>\n",
       "      <td>Iris-setosa</td>\n",
       "    </tr>\n",
       "    <tr>\n",
       "      <th>2</th>\n",
       "      <td>4.7</td>\n",
       "      <td>3.2</td>\n",
       "      <td>1.3</td>\n",
       "      <td>0.2</td>\n",
       "      <td>Iris-setosa</td>\n",
       "    </tr>\n",
       "    <tr>\n",
       "      <th>3</th>\n",
       "      <td>4.6</td>\n",
       "      <td>3.1</td>\n",
       "      <td>1.5</td>\n",
       "      <td>0.2</td>\n",
       "      <td>Iris-setosa</td>\n",
       "    </tr>\n",
       "    <tr>\n",
       "      <th>4</th>\n",
       "      <td>5.0</td>\n",
       "      <td>3.6</td>\n",
       "      <td>1.4</td>\n",
       "      <td>0.2</td>\n",
       "      <td>Iris-setosa</td>\n",
       "    </tr>\n",
       "  </tbody>\n",
       "</table>\n",
       "</div>"
      ],
      "text/plain": [
       "   sepal_length  sepal_width  petal_length  petal_width      species\n",
       "0           5.1          3.5           1.4          0.2  Iris-setosa\n",
       "1           4.9          3.0           1.4          0.2  Iris-setosa\n",
       "2           4.7          3.2           1.3          0.2  Iris-setosa\n",
       "3           4.6          3.1           1.5          0.2  Iris-setosa\n",
       "4           5.0          3.6           1.4          0.2  Iris-setosa"
      ]
     },
     "execution_count": 3,
     "metadata": {},
     "output_type": "execute_result"
    }
   ],
   "source": [
    "#importing modules\n",
    "import pandas as pd\n",
    "import numpy as np \n",
    "import seaborn as sns\n",
    "import matplotlib.pyplot as plt\n",
    "import sklearn\n",
    "\n",
    "#reading data\n",
    "data = pd.read_csv('IRIS.csv')\n",
    "data.head(5)\n"
   ]
  },
  {
   "cell_type": "code",
   "execution_count": 4,
   "id": "c8dc8bcf",
   "metadata": {},
   "outputs": [
    {
     "data": {
      "text/plain": [
       "(150, 5)"
      ]
     },
     "execution_count": 4,
     "metadata": {},
     "output_type": "execute_result"
    }
   ],
   "source": [
    "data.shape"
   ]
  },
  {
   "cell_type": "code",
   "execution_count": 5,
   "id": "3ce14c96",
   "metadata": {},
   "outputs": [
    {
     "data": {
      "text/plain": [
       "'showing data in histogram'"
      ]
     },
     "execution_count": 5,
     "metadata": {},
     "output_type": "execute_result"
    },
    {
     "data": {
      "image/png": "[encoded data removed]",
      "text/plain": [
       "<Figure size 432x288 with 1 Axes>"
      ]
     },
     "metadata": {
      "needs_background": "light"
     },
     "output_type": "display_data"
    }
   ],
   "source": [
    "data['sepal_length'].hist()\n",
    "data['sepal_width'].hist()\n",
    "'showing data in histogram'"
   ]
  },
  {
   "cell_type": "code",
   "execution_count": 6,
   "id": "38b582c7",
   "metadata": {},
   "outputs": [
    {
     "data": {
      "text/plain": [
       "'showing data in petal based'"
      ]
     },
     "execution_count": 6,
     "metadata": {},
     "output_type": "execute_result"
    },
    {
     "data": {
      "image/png": "[encoded data removed]",
      "text/plain": [
       "<Figure size 432x288 with 1 Axes>"
      ]
     },
     "metadata": {
      "needs_background": "light"
     },
     "output_type": "display_data"
    }
   ],
   "source": [
    "data['petal_length'].hist()\n",
    "data['petal_width'].hist()\n",
    "'showing data in petal based'"
   ]
  },
  {
   "cell_type": "code",
   "execution_count": 7,
   "id": "641e494a",
   "metadata": {},
   "outputs": [
    {
     "data": {
      "text/plain": [
       "<seaborn.axisgrid.FacetGrid at 0x2aae95346a0>"
      ]
     },
     "execution_count": 7,
     "metadata": {},
     "output_type": "execute_result"
    },
    {
     "data": {
      "image/png": "[encoded data removed]",
      "text/plain": [
       "<Figure size 463.25x360 with 1 Axes>"
      ]
     },
     "metadata": {
      "needs_background": "light"
     },
     "output_type": "display_data"
    },
    {
     "data": {
      "image/png": "[encoded data removed]",
      "text/plain": [
       "<Figure size 463.25x360 with 1 Axes>"
      ]
     },
     "metadata": {
      "needs_background": "light"
     },
     "output_type": "display_data"
    }
   ],
   "source": [
    "#ploting data \n",
    "sns.lmplot(x='sepal_length', y='petal_length', data=data, fit_reg=False, scatter_kws={'alpha': 0.5}, hue='species')\n",
    "sns.lmplot(x='sepal_width', y='petal_width', data=data, fit_reg=False, scatter_kws={'alpha': 0.6}, hue='species')"
   ]
  },
  {
   "cell_type": "code",
   "execution_count": 8,
   "id": "0e1efa14",
   "metadata": {},
   "outputs": [
    {
     "data": {
      "text/html": [
       "<div>\n",
       "<style scoped>\n",
       "    .dataframe tbody tr th:only-of-type {\n",
       "        vertical-align: middle;\n",
       "    }\n",
       "\n",
       "    .dataframe tbody tr th {\n",
       "        vertical-align: top;\n",
       "    }\n",
       "\n",
       "    .dataframe thead th {\n",
       "        text-align: right;\n",
       "    }\n",
       "</style>\n",
       "<table border=\"1\" class=\"dataframe\">\n",
       "  <thead>\n",
       "    <tr style=\"text-align: right;\">\n",
       "      <th></th>\n",
       "      <th>sepal_length</th>\n",
       "      <th>sepal_width</th>\n",
       "      <th>petal_length</th>\n",
       "      <th>petal_width</th>\n",
       "    </tr>\n",
       "  </thead>\n",
       "  <tbody>\n",
       "    <tr>\n",
       "      <th>sepal_length</th>\n",
       "      <td>1.000000</td>\n",
       "      <td>-0.109369</td>\n",
       "      <td>0.871754</td>\n",
       "      <td>0.817954</td>\n",
       "    </tr>\n",
       "    <tr>\n",
       "      <th>sepal_width</th>\n",
       "      <td>-0.109369</td>\n",
       "      <td>1.000000</td>\n",
       "      <td>-0.420516</td>\n",
       "      <td>-0.356544</td>\n",
       "    </tr>\n",
       "    <tr>\n",
       "      <th>petal_length</th>\n",
       "      <td>0.871754</td>\n",
       "      <td>-0.420516</td>\n",
       "      <td>1.000000</td>\n",
       "      <td>0.962757</td>\n",
       "    </tr>\n",
       "    <tr>\n",
       "      <th>petal_width</th>\n",
       "      <td>0.817954</td>\n",
       "      <td>-0.356544</td>\n",
       "      <td>0.962757</td>\n",
       "      <td>1.000000</td>\n",
       "    </tr>\n",
       "  </tbody>\n",
       "</table>\n",
       "</div>"
      ],
      "text/plain": [
       "              sepal_length  sepal_width  petal_length  petal_width\n",
       "sepal_length      1.000000    -0.109369      0.871754     0.817954\n",
       "sepal_width      -0.109369     1.000000     -0.420516    -0.356544\n",
       "petal_length      0.871754    -0.420516      1.000000     0.962757\n",
       "petal_width       0.817954    -0.356544      0.962757     1.000000"
      ]
     },
     "execution_count": 8,
     "metadata": {},
     "output_type": "execute_result"
    }
   ],
   "source": [
    "data.corr()\n",
    "#corr defined how data are related to eachother"
   ]
  },
  {
   "cell_type": "code",
   "execution_count": 9,
   "id": "f9631361",
   "metadata": {},
   "outputs": [],
   "source": [
    "from sklearn.linear_model import LogisticRegression\n",
    "from sklearn.preprocessing import LabelEncoder\n",
    "from sklearn.model_selection import train_test_split"
   ]
  },
  {
   "cell_type": "code",
   "execution_count": 10,
   "id": "1c065970",
   "metadata": {},
   "outputs": [
    {
     "data": {
      "text/html": [
       "<div>\n",
       "<style scoped>\n",
       "    .dataframe tbody tr th:only-of-type {\n",
       "        vertical-align: middle;\n",
       "    }\n",
       "\n",
       "    .dataframe tbody tr th {\n",
       "        vertical-align: top;\n",
       "    }\n",
       "\n",
       "    .dataframe thead th {\n",
       "        text-align: right;\n",
       "    }\n",
       "</style>\n",
       "<table border=\"1\" class=\"dataframe\">\n",
       "  <thead>\n",
       "    <tr style=\"text-align: right;\">\n",
       "      <th></th>\n",
       "      <th>sepal_length</th>\n",
       "      <th>sepal_width</th>\n",
       "      <th>petal_length</th>\n",
       "      <th>petal_width</th>\n",
       "      <th>species</th>\n",
       "    </tr>\n",
       "  </thead>\n",
       "  <tbody>\n",
       "    <tr>\n",
       "      <th>0</th>\n",
       "      <td>5.1</td>\n",
       "      <td>3.5</td>\n",
       "      <td>1.4</td>\n",
       "      <td>0.2</td>\n",
       "      <td>0</td>\n",
       "    </tr>\n",
       "    <tr>\n",
       "      <th>1</th>\n",
       "      <td>4.9</td>\n",
       "      <td>3.0</td>\n",
       "      <td>1.4</td>\n",
       "      <td>0.2</td>\n",
       "      <td>0</td>\n",
       "    </tr>\n",
       "    <tr>\n",
       "      <th>2</th>\n",
       "      <td>4.7</td>\n",
       "      <td>3.2</td>\n",
       "      <td>1.3</td>\n",
       "      <td>0.2</td>\n",
       "      <td>0</td>\n",
       "    </tr>\n",
       "    <tr>\n",
       "      <th>3</th>\n",
       "      <td>4.6</td>\n",
       "      <td>3.1</td>\n",
       "      <td>1.5</td>\n",
       "      <td>0.2</td>\n",
       "      <td>0</td>\n",
       "    </tr>\n",
       "    <tr>\n",
       "      <th>4</th>\n",
       "      <td>5.0</td>\n",
       "      <td>3.6</td>\n",
       "      <td>1.4</td>\n",
       "      <td>0.2</td>\n",
       "      <td>0</td>\n",
       "    </tr>\n",
       "    <tr>\n",
       "      <th>...</th>\n",
       "      <td>...</td>\n",
       "      <td>...</td>\n",
       "      <td>...</td>\n",
       "      <td>...</td>\n",
       "      <td>...</td>\n",
       "    </tr>\n",
       "    <tr>\n",
       "      <th>145</th>\n",
       "      <td>6.7</td>\n",
       "      <td>3.0</td>\n",
       "      <td>5.2</td>\n",
       "      <td>2.3</td>\n",
       "      <td>2</td>\n",
       "    </tr>\n",
       "    <tr>\n",
       "      <th>146</th>\n",
       "      <td>6.3</td>\n",
       "      <td>2.5</td>\n",
       "      <td>5.0</td>\n",
       "      <td>1.9</td>\n",
       "      <td>2</td>\n",
       "    </tr>\n",
       "    <tr>\n",
       "      <th>147</th>\n",
       "      <td>6.5</td>\n",
       "      <td>3.0</td>\n",
       "      <td>5.2</td>\n",
       "      <td>2.0</td>\n",
       "      <td>2</td>\n",
       "    </tr>\n",
       "    <tr>\n",
       "      <th>148</th>\n",
       "      <td>6.2</td>\n",
       "      <td>3.4</td>\n",
       "      <td>5.4</td>\n",
       "      <td>2.3</td>\n",
       "      <td>2</td>\n",
       "    </tr>\n",
       "    <tr>\n",
       "      <th>149</th>\n",
       "      <td>5.9</td>\n",
       "      <td>3.0</td>\n",
       "      <td>5.1</td>\n",
       "      <td>1.8</td>\n",
       "      <td>2</td>\n",
       "    </tr>\n",
       "  </tbody>\n",
       "</table>\n",
       "<p>150 rows × 5 columns</p>\n",
       "</div>"
      ],
      "text/plain": [
       "     sepal_length  sepal_width  petal_length  petal_width  species\n",
       "0             5.1          3.5           1.4          0.2        0\n",
       "1             4.9          3.0           1.4          0.2        0\n",
       "2             4.7          3.2           1.3          0.2        0\n",
       "3             4.6          3.1           1.5          0.2        0\n",
       "4             5.0          3.6           1.4          0.2        0\n",
       "..            ...          ...           ...          ...      ...\n",
       "145           6.7          3.0           5.2          2.3        2\n",
       "146           6.3          2.5           5.0          1.9        2\n",
       "147           6.5          3.0           5.2          2.0        2\n",
       "148           6.2          3.4           5.4          2.3        2\n",
       "149           5.9          3.0           5.1          1.8        2\n",
       "\n",
       "[150 rows x 5 columns]"
      ]
     },
     "execution_count": 10,
     "metadata": {},
     "output_type": "execute_result"
    }
   ],
   "source": [
    "#using labelencoder data preprocessing\n",
    "le_data = LabelEncoder()\n",
    "data['species']=le_data.fit_transform(data['species'])\n",
    "data.head(150)"
   ]
  },
  {
   "cell_type": "code",
   "execution_count": 11,
   "id": "a098ef35",
   "metadata": {},
   "outputs": [],
   "source": [
    "#spliting data into 80/20 ratio \n",
    "X=data.drop(columns=['species'])\n",
    "Y =data['species']\n",
    "X_train, X_test, Y_train,Y_test = train_test_split(X,Y, test_size=0.2 ,stratify=Y,\n",
    "                                                    random_state=1)\n"
   ]
  },
  {
   "cell_type": "code",
   "execution_count": 12,
   "id": "0c7155d5",
   "metadata": {},
   "outputs": [
    {
     "data": {
      "text/plain": [
       "(120, 4)"
      ]
     },
     "execution_count": 12,
     "metadata": {},
     "output_type": "execute_result"
    }
   ],
   "source": [
    "X_train.shape"
   ]
  },
  {
   "cell_type": "code",
   "execution_count": 13,
   "id": "5895d1b3",
   "metadata": {},
   "outputs": [
    {
     "data": {
      "text/plain": [
       "(30, 4)"
      ]
     },
     "execution_count": 13,
     "metadata": {},
     "output_type": "execute_result"
    }
   ],
   "source": [
    " X_test.shape"
   ]
  },
  {
   "cell_type": "code",
   "execution_count": 14,
   "id": "e65e29a0",
   "metadata": {},
   "outputs": [
    {
     "data": {
      "text/plain": [
       "(120,)"
      ]
     },
     "execution_count": 14,
     "metadata": {},
     "output_type": "execute_result"
    }
   ],
   "source": [
    "Y_train.shape"
   ]
  },
  {
   "cell_type": "code",
   "execution_count": 15,
   "id": "898da2c6",
   "metadata": {},
   "outputs": [
    {
     "data": {
      "text/plain": [
       "(30,)"
      ]
     },
     "execution_count": 15,
     "metadata": {},
     "output_type": "execute_result"
    }
   ],
   "source": [
    "Y_test.shape"
   ]
  },
  {
   "cell_type": "code",
   "execution_count": 16,
   "id": "e84eed40",
   "metadata": {},
   "outputs": [],
   "source": [
    "#making model using logistricregression\n",
    "model = LogisticRegression(max_iter=1000)"
   ]
  },
  {
   "cell_type": "code",
   "execution_count": 17,
   "id": "3a1380d5",
   "metadata": {},
   "outputs": [],
   "source": [
    "#fiting with training data\n",
    "Final = model.fit(X_train, Y_train)"
   ]
  },
  {
   "cell_type": "code",
   "execution_count": 18,
   "id": "0f87ee5c",
   "metadata": {},
   "outputs": [
    {
     "name": "stdout",
     "output_type": "stream",
     "text": [
      "LogisticRegression(max_iter=1000)\n"
     ]
    }
   ],
   "source": [
    "print(Final)"
   ]
  },
  {
   "cell_type": "code",
   "execution_count": 19,
   "id": "a15b5083",
   "metadata": {},
   "outputs": [
    {
     "name": "stdout",
     "output_type": "stream",
     "text": [
      "[2 0 1 0 0 0 2 2 2 1 0 1 2 1 2 0 2 1 1 2 1 1 0 0 2 1 0 0 1 1]\n"
     ]
    }
   ],
   "source": [
    "#making prediction\n",
    "Y_pred =model.predict(X_test)\n",
    "print(Y_pred)"
   ]
  },
  {
   "cell_type": "code",
   "execution_count": 20,
   "id": "22c2e74a",
   "metadata": {},
   "outputs": [
    {
     "name": "stdout",
     "output_type": "stream",
     "text": [
      "Precision: 0.9696969696969696\n",
      "Recall: 0.9666666666666667\n"
     ]
    }
   ],
   "source": [
    "#calculate precison score and recall score \n",
    "from sklearn.metrics import precision_score, recall_score\n",
    "precision = precision_score(Y_test, Y_pred, average ='weighted')\n",
    "recall = recall_score(Y_test, Y_pred, average ='weighted')\n",
    "\n",
    "print(\"Precision:\", precision)\n",
    "print('Recall:', recall)"
   ]
  },
  {
   "cell_type": "code",
   "execution_count": 21,
   "id": "5ae9ee17",
   "metadata": {},
   "outputs": [
    {
     "name": "stdout",
     "output_type": "stream",
     "text": [
      "Accuracy:  96.66666666666667\n"
     ]
    }
   ],
   "source": [
    "#accuracy of data\n",
    "print(\"Accuracy: \", model.score(X_test, Y_test) * 100)"
   ]
  },
  {
   "cell_type": "code",
   "execution_count": 22,
   "id": "228b9f49",
   "metadata": {},
   "outputs": [
    {
     "name": "stdout",
     "output_type": "stream",
     "text": [
      "Accuracy: 1.0\n",
      "F1 score : 1.0\n"
     ]
    }
   ],
   "source": [
    "#accuracy and F1 score\n",
    "from sklearn.metrics import accuracy_score,f1_score\n",
    "Y_true = [0,1,1,0,0,0,1,1,1, 0]\n",
    "Y_pred = [0,1,1,0,0,0,1,1,1, 0]\n",
    "accuracy =accuracy_score(Y_true, Y_pred)\n",
    "f1= f1_score(Y_true, Y_pred)\n",
    "print(\"Accuracy:\", accuracy)\n",
    "print('F1 score :', f1)\n"
   ]
  },
  {
   "cell_type": "code",
   "execution_count": 23,
   "id": "2559acbe",
   "metadata": {},
   "outputs": [
    {
     "name": "stdout",
     "output_type": "stream",
     "text": [
      "Confusion matrix: [[0 2 0 0]\n",
      " [0 0 2 1]\n",
      " [1 0 0 0]\n",
      " [1 0 0 0]]\n"
     ]
    }
   ],
   "source": [
    "#confusion matrix\n",
    "from sklearn.metrics import confusion_matrix\n",
    "Y_true = [1,0,1,2,3,0,1]\n",
    "Y_pred = [2,1,3,0,0,1,2]\n",
    "conf_matrix  = confusion_matrix(Y_true, Y_pred)\n",
    "print('Confusion matrix:', conf_matrix)"
   ]
  },
  {
   "cell_type": "code",
   "execution_count": 24,
   "id": "2a2ca222",
   "metadata": {},
   "outputs": [],
   "source": [
    "# from sklearn.metrics import precision_score, recall_score\n",
    "# Y_true =[1,2,0,1,2,1]\n",
    "# Y_pred_prob=[0.1,0.2,0.4,0.8,0.9,0.7]\n",
    "# for threshold in np.arange(0.1, 1.0,0.3):\n",
    "#     Y_pred = [int(prob>= threshold)  for prob in Y_pred_prob]\n",
    "#     precision =precision_score(Y_true, Y_pred)\n",
    "#     recall = recall_score(Y_true, Y_pred)\n",
    "#     print(\"Threshold:\", threshold, \"precison:\", precison, \"recall:\", recall)\n",
    "    "
   ]
  },
  {
   "cell_type": "code",
   "execution_count": 25,
   "id": "01cd4ef9",
   "metadata": {},
   "outputs": [],
   "source": [
    "# #making prediction\n",
    "# input_data = (1,2,3,4)\n",
    "# #changing input_dat into numpy array\n",
    "\n",
    "# input_data_as_numpy_array  = np.asarray(input_data)\n",
    "# #reshape the array\n",
    "# input_data_reshaped = input_data_as_numpy_array.reshape(1,-1)\n",
    "# print(input_data_reshaped)\n",
    "# prediction = model.predict(input_data_reshaped)\n",
    "# print(prediction)"
   ]
  },
  {
   "cell_type": "code",
   "execution_count": 26,
   "id": "86ed24e0",
   "metadata": {},
   "outputs": [
    {
     "data": {
      "text/plain": [
       "['IrisFlowerSpeciesPredictor.pk1']"
      ]
     },
     "execution_count": 26,
     "metadata": {},
     "output_type": "execute_result"
    }
   ],
   "source": [
    "#saving model as pickle\n",
    "import pickle\n",
    "import joblib\n",
    "model = LogisticRegression(max_iter=1000)\n",
    "model.fit(X_train, Y_train)\n",
    "filename = 'IrisFlowerSpeciesPredictor.pk1'\n",
    "joblib.dump(model, filename)"
   ]
  },
  {
   "cell_type": "code",
   "execution_count": 29,
   "id": "af2b1478",
   "metadata": {},
   "outputs": [],
   "source": [
    "import joblib\n"
   ]
  },
  {
   "cell_type": "code",
   "execution_count": 27,
   "id": "fd8c98de",
   "metadata": {},
   "outputs": [],
   "source": [
    "# Load the pickled model\n",
    "# with open('IrisFlowerSpeciesPredictor.pk1', 'rb') as model_file:\n",
    "#     model = pickle.load(model_file)\n",
    "# # Prepare input data as a 2D NumPy array\n",
    "# input_data = np.array([[sepal_length, sepal_width, petal_length, petal_width]])\n",
    "# # Load any necessary data (if applicable)\n",
    "# # iris_data = pd.read_pickle('IrisFlowerSpeciesPredictor.pk1')\n",
    "# result = model.predict(input_data)"
   ]
  },
  {
   "cell_type": "code",
   "execution_count": 28,
   "id": "73dda46d",
   "metadata": {
    "scrolled": false
   },
   "outputs": [
    {
     "name": "stdout",
     "output_type": "stream",
     "text": [
      "enter sepal_length:1\n",
      "enter sepal_width:1\n",
      "enter petal_length:1\n",
      "enter petal_width:1\n"
     ]
    },
    {
     "ename": "AttributeError",
     "evalue": "'numpy.ndarray' object has no attribute 'predict'",
     "output_type": "error",
     "traceback": [
      "\u001b[1;31m---------------------------------------------------------------------------\u001b[0m",
      "\u001b[1;31mAttributeError\u001b[0m                            Traceback (most recent call last)",
      "Input \u001b[1;32mIn [28]\u001b[0m, in \u001b[0;36m<cell line: 14>\u001b[1;34m()\u001b[0m\n\u001b[0;32m     11\u001b[0m petal_width \u001b[38;5;241m=\u001b[39m\u001b[38;5;28mfloat\u001b[39m(\u001b[38;5;28minput\u001b[39m(\u001b[38;5;124m'\u001b[39m\u001b[38;5;124menter petal_width:\u001b[39m\u001b[38;5;124m'\u001b[39m))\n\u001b[0;32m     13\u001b[0m input_data \u001b[38;5;241m=\u001b[39mnp\u001b[38;5;241m.\u001b[39marray([[sepal_length,sepal_width,petal_length,petal_width]])\n\u001b[1;32m---> 14\u001b[0m result \u001b[38;5;241m=\u001b[39m \u001b[43mmodel\u001b[49m\u001b[38;5;241;43m.\u001b[39;49m\u001b[43mpredict\u001b[49m(input_data)\n\u001b[0;32m     15\u001b[0m \u001b[38;5;28mprint\u001b[39m(result)\n",
      "\u001b[1;31mAttributeError\u001b[0m: 'numpy.ndarray' object has no attribute 'predict'"
     ]
    }
   ],
   "source": [
    "# import pickle\n",
    "# import numpy as np\n",
    "\n",
    "# # Load the pickled model\n",
    "# with open('IrisFlowerSpeciesPredictor.pk1', 'rb') as model_file:\n",
    "#     model = pickle.load(model_file)\n",
    "# # take a pickle pd.read_pickle('iris.pk1')\n",
    "# sepal_length = float(input(\"enter sepal_length:\"))\n",
    "# sepal_width =float(input('enter sepal_width:'))\n",
    "# petal_length =float(input('enter petal_length:'))\n",
    "# petal_width =float(input('enter petal_width:'))\n",
    "\n",
    "# input_data =np.array([[sepal_length,sepal_width,petal_length,petal_width]])\n",
    "# result = model.predict(input_data)\n",
    "# print(result)"
   ]
  },
  {
   "cell_type": "markdown",
   "id": "747f8bb8",
   "metadata": {},
   "source": [
    " <!-- # saving model as pickle\n",
    "# import pickle\n",
    "# import joblib\n",
    "# filename = 'IrisFlowerSpeciesPredictor.pk1'\n",
    "# joblib.dump(model, filename) -->"
   ]
  },
  {
   "cell_type": "code",
   "execution_count": null,
   "id": "0c09fb5a",
   "metadata": {},
   "outputs": [],
   "source": []
  },
  {
   "cell_type": "code",
   "execution_count": null,
   "id": "567e073b",
   "metadata": {},
   "outputs": [],
   "source": []
  },
  {
   "cell_type": "code",
   "execution_count": null,
   "id": "e2f011d8",
   "metadata": {},
   "outputs": [],
   "source": []
  },
  {
   "cell_type": "code",
   "execution_count": null,
   "id": "ba7e5c0c",
   "metadata": {},
   "outputs": [],
   "source": []
  },
  {
   "cell_type": "code",
   "execution_count": null,
   "id": "29c4f89c",
   "metadata": {},
   "outputs": [],
   "source": []
  },
  {
   "cell_type": "code",
   "execution_count": null,
   "id": "bcf89965",
   "metadata": {},
   "outputs": [],
   "source": []
  }
 ],
 "metadata": {
  "kernelspec": {
   "display_name": "Python 3 (ipykernel)",
   "language": "python",
   "name": "python3"
  },
  "language_info": {
   "codemirror_mode": {
    "name": "ipython",
    "version": 3
   },
   "file_extension": ".py",
   "mimetype": "text/x-python",
   "name": "python",
   "nbconvert_exporter": "python",
   "pygments_lexer": "ipython3",
   "version": "3.9.12"
  }
 },
 "nbformat": 4,
 "nbformat_minor": 5
}
